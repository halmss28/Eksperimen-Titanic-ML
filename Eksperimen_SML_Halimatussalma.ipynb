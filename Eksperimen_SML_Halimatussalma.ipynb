{
 "cells": [
  {
   "cell_type": "markdown",
   "id": "f00dafe1",
   "metadata": {},
   "source": [
    "# Eksperimen dan Preprocessing Data Titanic\n",
    "\n",
    "Proyek akhir Machine Learning Terapan."
   ]
  },
  {
   "cell_type": "code",
   "execution_count": null,
   "id": "2eafc115",
   "metadata": {},
   "outputs": [],
   "source": [
    "import pandas as pd\n",
    "import numpy as np\n",
    "import matplotlib.pyplot as plt\n",
    "import seaborn as sns"
   ]
  },
  {
   "cell_type": "code",
   "execution_count": null,
   "id": "9b4fc538",
   "metadata": {},
   "outputs": [],
   "source": [
    "df = pd.read_csv('train.csv')\n",
    "df.head()"
   ]
  },
  {
   "cell_type": "code",
   "execution_count": null,
   "id": "ee1b9fe9",
   "metadata": {},
   "outputs": [],
   "source": [
    "df.info()"
   ]
  },
  {
   "cell_type": "code",
   "execution_count": null,
   "id": "7f603390",
   "metadata": {},
   "outputs": [],
   "source": [
    "df.isnull().sum()"
   ]
  },
  {
   "cell_type": "code",
   "execution_count": null,
   "id": "894d240f",
   "metadata": {},
   "outputs": [],
   "source": [
    "sns.countplot(x='Survived', data=df)\n",
    "plt.title('Distribusi Target: Survived')"
   ]
  },
  {
   "cell_type": "code",
   "execution_count": null,
   "id": "9bb2dbaa",
   "metadata": {},
   "outputs": [],
   "source": [
    "plt.figure(figsize=(10,6))\n",
    "sns.heatmap(df.corr(numeric_only=True), annot=True, cmap='coolwarm')"
   ]
  },
  {
   "cell_type": "code",
   "execution_count": null,
   "id": "72405333",
   "metadata": {},
   "outputs": [],
   "source": [
    "df = df.drop(columns=['PassengerId', 'Name', 'Ticket', 'Cabin'])"
   ]
  },
  {
   "cell_type": "code",
   "execution_count": null,
   "id": "cb216111",
   "metadata": {},
   "outputs": [],
   "source": [
    "df['Age'].fillna(df['Age'].median(), inplace=True)"
   ]
  },
  {
   "cell_type": "code",
   "execution_count": null,
   "id": "d732e313",
   "metadata": {},
   "outputs": [],
   "source": [
    "df['Embarked'].fillna(df['Embarked'].mode()[0], inplace=True)"
   ]
  },
  {
   "cell_type": "code",
   "execution_count": null,
   "id": "705e86cf",
   "metadata": {},
   "outputs": [],
   "source": [
    "df = pd.get_dummies(df, columns=['Sex', 'Embarked'], drop_first=True)"
   ]
  },
  {
   "cell_type": "code",
   "execution_count": null,
   "id": "0319ccce",
   "metadata": {},
   "outputs": [],
   "source": [
    "df.to_csv('processed_train.csv', index=False)\n",
    "df.head()"
   ]
  }
 ],
 "metadata": {},
 "nbformat": 4,
 "nbformat_minor": 5
}
